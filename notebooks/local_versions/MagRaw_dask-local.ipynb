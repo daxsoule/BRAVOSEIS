{
 "cells": [
  {
   "cell_type": "markdown",
   "metadata": {},
   "source": [
    "## First Look at Gravity Data"
   ]
  },
  {
   "cell_type": "markdown",
   "metadata": {},
   "source": [
    "#### Import Data Files"
   ]
  },
  {
   "cell_type": "code",
   "execution_count": null,
   "metadata": {},
   "outputs": [],
   "source": [
    "%reset -f"
   ]
  },
  {
   "cell_type": "code",
   "execution_count": null,
   "metadata": {},
   "outputs": [],
   "source": [
    "import pandas as pd\n",
    "import hvplot.pandas\n",
    "import numpy as np\n",
    "import matplotlib.dates as dates\n",
    "import warnings\n",
    "warnings.filterwarnings('ignore')\n",
    "import holoviews as hv\n",
    "from holoviews import dim, opts\n",
    "import hvplot.dask\n",
    "hv.extension('bokeh')\n",
    "import glob, os\n",
    "import dask.dataframe as dd"
   ]
  },
  {
   "cell_type": "code",
   "execution_count": null,
   "metadata": {},
   "outputs": [],
   "source": [
    "from time import sleep\n",
    "\n",
    "def inc(x):\n",
    "    sleep(1)\n",
    "    return x + 1\n",
    "\n",
    "def add(x, y):\n",
    "    sleep(1)\n",
    "    return x + y"
   ]
  },
  {
   "cell_type": "markdown",
   "metadata": {},
   "source": [
    "### Start a Dask Cluster"
   ]
  },
  {
   "cell_type": "code",
   "execution_count": null,
   "metadata": {},
   "outputs": [],
   "source": [
    "from dask.distributed import Client, LocalCluster\n",
    "cluster = LocalCluster()\n",
    "client = Client(cluster)\n",
    "client"
   ]
  },
  {
   "cell_type": "code",
   "execution_count": null,
   "metadata": {},
   "outputs": [],
   "source": [
    "def parse_date(date_string):\n",
    "    year   = date_string[3:5]\n",
    "    month  = date_string[0:2]\n",
    "    day    = date_string[7:9]\n",
    "    hour   = date_string[10:12]\n",
    "    minute = date_string[13:15]\n",
    "    second = date_string[16:18]\n",
    "#     if day == '032':\n",
    "#         print(date_string)\n",
    "#         month = '02'\n",
    "#         day = '01'\n",
    "    \n",
    "    common_date_string = year   + '-' + \\\n",
    "                         month  + '-' + \\\n",
    "                         day    + ' ' + \\\n",
    "                         hour   + ':' + \\\n",
    "                         minute + ':' + \\\n",
    "                         second\n",
    "    \n",
    "    dt = datetime.datetime.strptime(common_date_string, \n",
    "                                    \"%y-%m-%d %H:%M:%S\")\n",
    "    \n",
    "    return dt"
   ]
  },
  {
   "cell_type": "code",
   "execution_count": null,
   "metadata": {},
   "outputs": [],
   "source": [
    "!ls /Users/dsoule/data/bravoseis_data/MAGNETOMETRO/dotmagFiles/february/"
   ]
  },
  {
   "cell_type": "code",
   "execution_count": null,
   "metadata": {},
   "outputs": [],
   "source": [
    "cat /Users/dsoule/data/bravoseis_data/MAGNETOMETRO/dotmagFiles/february/*.mag > /Users/dsoule/data/bravoseis_data/MAGNETOMETRO/dotmagFiles/february/feb_test.txt"
   ]
  },
  {
   "cell_type": "code",
   "execution_count": null,
   "metadata": {},
   "outputs": [],
   "source": [
    "#!head /Users/dsoule/data/bravoseis_data/MAGNETOMETRO/dotmagFiles/february/feb_mag.txt"
   ]
  },
  {
   "cell_type": "code",
   "execution_count": null,
   "metadata": {},
   "outputs": [],
   "source": [
    "#!head /Users/dsoule/data/bravoseis_data/MAGNETOMETRO/dotmagFiles/february/temp.txt"
   ]
  },
  {
   "cell_type": "code",
   "execution_count": null,
   "metadata": {},
   "outputs": [],
   "source": [
    "!sed 's/*/02-/g' /Users/dsoule/data/bravoseis_data/MAGNETOMETRO/dotmagFiles/february/feb_mag.txt > /Users/dsoule/data/bravoseis_data/MAGNETOMETRO/dotmagFiles/february/temp.txt\n",
    "!sed 's/\\./-/' /Users/dsoule/data/bravoseis_data/MAGNETOMETRO/dotmagFiles/february/temp.txt > /Users/dsoule/data/bravoseis_data/MAGNETOMETRO/dotmagFiles/february/temp1.txt\n",
    "!sed 's/\\// /g' /Users/dsoule/data/bravoseis_data/MAGNETOMETRO/dotmagFiles/february/temp1.txt > /Users/dsoule/data/bravoseis_data/MAGNETOMETRO/dotmagFiles/february/temp2.txt\n",
    "# !sed 's/ /,/' /Users/dsoule/data/bravoseis_data/MAGNETOMETRO/dotmagFiles/january/temp2.txt > /Users/dsoule/data/bravoseis_data/MAGNETOMETRO/dotmagFiles/january/tempA.txt\n",
    "!sed 's/ F:/,/g' /Users/dsoule/data/bravoseis_data/MAGNETOMETRO/dotmagFiles/february/temp2.txt > /Users/dsoule/data/bravoseis_data/MAGNETOMETRO/dotmagFiles/february/temp3.txt\n",
    "!sed 's/ S:/,/g' /Users/dsoule/data/bravoseis_data/MAGNETOMETRO/dotmagFiles/february/temp3.txt > /Users/dsoule/data/bravoseis_data/MAGNETOMETRO/dotmagFiles/february/temp4.txt\n",
    "!sed 's/ D:/,/g' /Users/dsoule/data/bravoseis_data/MAGNETOMETRO/dotmagFiles/february/temp4.txt > /Users/dsoule/data/bravoseis_data/MAGNETOMETRO/dotmagFiles/february/temp5.txt\n",
    "!sed 's/ A:/,/g' /Users/dsoule/data/bravoseis_data/MAGNETOMETRO/dotmagFiles/february/temp5.txt > /Users/dsoule/data/bravoseis_data/MAGNETOMETRO/dotmagFiles/february/temp6.txt\n",
    "!sed 's/m /,/' /Users/dsoule/data/bravoseis_data/MAGNETOMETRO/dotmagFiles/february/temp6.txt > /Users/dsoule/data/bravoseis_data/MAGNETOMETRO/dotmagFiles/february/temp7.txt\n",
    "!sed 's/ Q:/,/' /Users/dsoule/data/bravoseis_data/MAGNETOMETRO/dotmagFiles/february/temp7.txt > /Users/dsoule/data/bravoseis_data/MAGNETOMETRO/dotmagFiles/february/temp8.txt\n",
    "!sed 's/      X:/,/' /Users/dsoule/data/bravoseis_data/MAGNETOMETRO/dotmagFiles/february/temp8.txt > /Users/dsoule/data/bravoseis_data/MAGNETOMETRO/dotmagFiles/february/temp9.txt\n",
    "!sed 's/ Y:/,/' /Users/dsoule/data/bravoseis_data/MAGNETOMETRO/dotmagFiles/february/temp9.txt > /Users/dsoule/data/bravoseis_data/MAGNETOMETRO/dotmagFiles/february/temp10.txt\n",
    "!sed 's/ Z:/,/' /Users/dsoule/data/bravoseis_data/MAGNETOMETRO/dotmagFiles/february/temp10.txt > /Users/dsoule/data/bravoseis_data/MAGNETOMETRO/dotmagFiles/february/temp11.txt\n",
    "!sed 's/ x:/,/' /Users/dsoule/data/bravoseis_data/MAGNETOMETRO/dotmagFiles/february/temp11.txt > /Users/dsoule/data/bravoseis_data/MAGNETOMETRO/dotmagFiles/february/temp12.txt\n",
    "!sed 's/ y:/,/' /Users/dsoule/data/bravoseis_data/MAGNETOMETRO/dotmagFiles/february/temp12.txt > /Users/dsoule/data/bravoseis_data/MAGNETOMETRO/dotmagFiles/february/temp13.txt\n",
    "!sed 's/ <INTERP>//' /Users/dsoule/data/bravoseis_data/MAGNETOMETRO/dotmagFiles/february/temp13.txt > /Users/dsoule/data/bravoseis_data/MAGNETOMETRO/dotmagFiles/february/temp14.txt\n",
    "!sed 's/ <REAL>//' /Users/dsoule/data/bravoseis_data/MAGNETOMETRO/dotmagFiles/february/temp14.txt > /Users/dsoule/data/bravoseis_data/MAGNETOMETRO/dotmagFiles/february/temp15.txt\n",
    "!sed 's/ <LAYBACK INTERPOLATION>//' /Users/dsoule/data/bravoseis_data/MAGNETOMETRO/dotmagFiles/february/temp15.txt > /Users/dsoule/data/bravoseis_data/MAGNETOMETRO/dotmagFiles/february/temp17.txt\n",
    "!sed 's/L0 /L0/' /Users/dsoule/data/bravoseis_data/MAGNETOMETRO/dotmagFiles/february/temp17.txt > /Users/dsoule/data/bravoseis_data/MAGNETOMETRO/dotmagFiles/february/feb_mag_clean.csv\n",
    "!echo 'datetime,f_mag,S:,depth,dummy, A:,LO,Xgrid,Ygrid,zone,longitude,latitude' | cat - /Users/dsoule/data/bravoseis_data/MAGNETOMETRO/dotmagFiles/february/feb_mag_clean.csv > /Users/dsoule/data/bravoseis_data/MAGNETOMETRO/dotmagFiles/february/febMag.csv\n",
    "!head /Users/dsoule/data/bravoseis_data/MAGNETOMETRO/dotmagFiles/february/febMag.csv"
   ]
  },
  {
   "cell_type": "code",
   "execution_count": null,
   "metadata": {},
   "outputs": [],
   "source": [
    "#!sed 's/*/01-/g' /Users/dsoule/data/bravoseis_data/MAGNETOMETRO/dotmagFiles/january/jan_mag.txt > /Users/dsoule/data/bravoseis_data/MAGNETOMETRO/dotmagFiles/january/temp.txt\n",
    "# !sed 's/\\./-/' /Users/dsoule/data/bravoseis_data/MAGNETOMETRO/dotmagFiles/january/temp.txt > /Users/dsoule/data/bravoseis_data/MAGNETOMETRO/dotmagFiles/january/temp1.txt\n",
    "# !sed 's/\\// /g' /Users/dsoule/data/bravoseis_data/MAGNETOMETRO/dotmagFiles/january/temp1.txt > /Users/dsoule/data/bravoseis_data/MAGNETOMETRO/dotmagFiles/january/temp2.txt\n",
    "# !sed 's/ /,/' /Users/dsoule/data/bravoseis_data/MAGNETOMETRO/dotmagFiles/january/temp2.txt > /Users/dsoule/data/bravoseis_data/MAGNETOMETRO/dotmagFiles/january/tempA.txt\n",
    "# !sed 's/ F:/,/g' /Users/dsoule/data/bravoseis_data/MAGNETOMETRO/dotmagFiles/january/tempA.txt > /Users/dsoule/data/bravoseis_data/MAGNETOMETRO/dotmagFiles/january/temp3.txt\n",
    "# !sed 's/ S:/,/g' /Users/dsoule/data/bravoseis_data/MAGNETOMETRO/dotmagFiles/january/temp3.txt > /Users/dsoule/data/bravoseis_data/MAGNETOMETRO/dotmagFiles/january/temp4.txt\n",
    "# !sed 's/ D:/,/g' /Users/dsoule/data/bravoseis_data/MAGNETOMETRO/dotmagFiles/january/temp4.txt > /Users/dsoule/data/bravoseis_data/MAGNETOMETRO/dotmagFiles/january/temp5.txt\n",
    "# !sed 's/ A:/,/g' /Users/dsoule/data/bravoseis_data/MAGNETOMETRO/dotmagFiles/january/temp5.txt > /Users/dsoule/data/bravoseis_data/MAGNETOMETRO/dotmagFiles/january/temp6.txt\n",
    "# !sed 's/m /,/' /Users/dsoule/data/bravoseis_data/MAGNETOMETRO/dotmagFiles/january/temp6.txt > /Users/dsoule/data/bravoseis_data/MAGNETOMETRO/dotmagFiles/january/temp7.txt\n",
    "# !sed 's/ Q:/,/' /Users/dsoule/data/bravoseis_data/MAGNETOMETRO/dotmagFiles/january/temp7.txt > /Users/dsoule/data/bravoseis_data/MAGNETOMETRO/dotmagFiles/january/temp8.txt\n",
    "# !sed 's/      X:/,/' /Users/dsoule/data/bravoseis_data/MAGNETOMETRO/dotmagFiles/january/temp8.txt > /Users/dsoule/data/bravoseis_data/MAGNETOMETRO/dotmagFiles/january/temp9.txt\n",
    "# !sed 's/ Y:/,/' /Users/dsoule/data/bravoseis_data/MAGNETOMETRO/dotmagFiles/january/temp9.txt > /Users/dsoule/data/bravoseis_data/MAGNETOMETRO/dotmagFiles/january/temp10.txt\n",
    "# !sed 's/ Z:/,/' /Users/dsoule/data/bravoseis_data/MAGNETOMETRO/dotmagFiles/january/temp10.txt > /Users/dsoule/data/bravoseis_data/MAGNETOMETRO/dotmagFiles/january/temp11.txt\n",
    "# !sed 's/ x:/,/' /Users/dsoule/data/bravoseis_data/MAGNETOMETRO/dotmagFiles/january/temp11.txt > /Users/dsoule/data/bravoseis_data/MAGNETOMETRO/dotmagFiles/january/temp12.txt\n",
    "# !sed 's/ y:/,/' /Users/dsoule/data/bravoseis_data/MAGNETOMETRO/dotmagFiles/january/temp12.txt > /Users/dsoule/data/bravoseis_data/MAGNETOMETRO/dotmagFiles/january/temp13.txt\n",
    "# !sed 's/ <INTERP>//' /Users/dsoule/data/bravoseis_data/MAGNETOMETRO/dotmagFiles/january/temp13.txt > /Users/dsoule/data/bravoseis_data/MAGNETOMETRO/dotmagFiles/january/temp14.txt\n",
    "# !sed 's/ <REAL>//' /Users/dsoule/data/bravoseis_data/MAGNETOMETRO/dotmagFiles/january/temp14.txt > /Users/dsoule/data/bravoseis_data/MAGNETOMETRO/dotmagFiles/january/temp15.txt\n",
    "# !sed 's/ <LAYBACK INTERPOLATION>//' /Users/dsoule/data/bravoseis_data/MAGNETOMETRO/dotmagFiles/january/temp15.txt > /Users/dsoule/data/bravoseis_data/MAGNETOMETRO/dotmagFiles/january/temp17.txt\n",
    "# !sed 's/ //' /Users/dsoule/data/bravoseis_data/MAGNETOMETRO/dotmagFiles/january/temp17.txt > /Users/dsoule/data/bravoseis_data/MAGNETOMETRO/dotmagFiles/january/temp18.txt\n",
    "#!echo 'datetime,datetime1,f_mag,S:,depth,A:,LO,Xgrid,Ygrid,zone,longitude,latitude' | cat - /Users/dsoule/data/bravoseis_data/MAGNETOMETRO/dotmagFiles/january/janMag_clean.csv > /Users/dsoule/data/bravoseis_data/MAGNETOMETRO/dotmagFiles/january/janMag.csv\n",
    "#!head /Users/dsoule/data/bravoseis_data/MAGNETOMETRO/dotmagFiles/january/janMag.csv"
   ]
  },
  {
   "cell_type": "code",
   "execution_count": null,
   "metadata": {},
   "outputs": [],
   "source": [
    "from dask import delayed\n",
    "import dask.array as dsa"
   ]
  },
  {
   "cell_type": "markdown",
   "metadata": {},
   "source": [
    "## Read Jan mag Files\n",
    "01-19-021,14:27:40.5,034839.779,192,+004.9m,096.49,L00465ms,99,426488.3,3087109.0,21E,-58.419440,-62.340243^M\n",
    " 45990 Layback,lengthchanges fro,200-0 to 200.0 (m)^M\n",
    " 45991 01-19-021,14:27:41.5,034839.268,192,+004.8m,062.62,L00465ms,99,426486.8,3087110.9,21E,-58.419467,-62.340225^M\n",
    " \n",
    " 699153 01-19-029,08:29:07.5,035541.093,186,+006.6m,096.48,L00465ms,99     ^M\n",
    "699154 Xcvr,sn: 5807^M\n",
    "699155 01-19-029,08:29:08.5,035541.09^B\"Zrj^Erj1j^B^B^B^B^BjR01-19.02908:29:10.5,035540.759,185,+006.5m,083.98,L0 0465ms,99     ^M\n",
    "\n",
    "716873 01-19-029,13:25:53.5,034639.300,192,+006.1m,044.21,L00466ms,99,424274.5,3072845.9,21E,-58.468424,-62.467784^M\n",
    "716874 Layback,lengthchanges fro,0-0 to 200.0 (m)^M\n",
    "716875 01-19-029,13:25:54.5,034639.424,192,+006.1m,042.10,L00466ms,99,424428.5,3072969.9,21E,-58.465384,-62.466703^M"
   ]
  },
  {
   "cell_type": "code",
   "execution_count": null,
   "metadata": {},
   "outputs": [],
   "source": [
    "%%time\n",
    "df_jan=pd.read_csv('/Users/dsoule/data/bravoseis_data/MAGNETOMETRO/dotmagFiles/january/janMag_clean.csv')\n",
    "\n",
    "df_jan.sample(10)"
   ]
  },
  {
   "cell_type": "code",
   "execution_count": null,
   "metadata": {},
   "outputs": [],
   "source": [
    "#df_mag[df_mag['datetime'].str.contains('-032')]"
   ]
  },
  {
   "cell_type": "code",
   "execution_count": null,
   "metadata": {},
   "outputs": [],
   "source": [
    "df_jan['timestamp'] = df_jan['datetime'].apply(parse_date)\n",
    "df_jan.head()"
   ]
  },
  {
   "cell_type": "markdown",
   "metadata": {},
   "source": [
    "## Read February Files"
   ]
  },
  {
   "cell_type": "code",
   "execution_count": null,
   "metadata": {},
   "outputs": [],
   "source": [
    "%%time\n",
    "df_feb=pd.read_csv('/Users/dsoule/data/bravoseis_data/MAGNETOMETRO/dotmagFiles/february/febMag.csv')\n",
    "df_feb.head()"
   ]
  },
  {
   "cell_type": "code",
   "execution_count": null,
   "metadata": {},
   "outputs": [],
   "source": [
    "df_feb['timestamp'] = df_feb['datetime'].apply(parse_date)\n",
    "df_feb.head()"
   ]
  },
  {
   "cell_type": "code",
   "execution_count": null,
   "metadata": {},
   "outputs": [],
   "source": [
    "df_bath = df_bath.resample('s').mean().compute()"
   ]
  },
  {
   "cell_type": "code",
   "execution_count": null,
   "metadata": {},
   "outputs": [],
   "source": [
    "#df_bath.index = pd.to_datetime(df_bath.index.values)"
   ]
  },
  {
   "cell_type": "markdown",
   "metadata": {},
   "source": [
    "### Merge Dataframes"
   ]
  },
  {
   "cell_type": "code",
   "execution_count": null,
   "metadata": {},
   "outputs": [],
   "source": [
    "test = pd.merge(df_bath, df_grav,how='inner', indicator=True,left_index=True, right_index=True, suffixes=('_B', '_G'))"
   ]
  },
  {
   "cell_type": "code",
   "execution_count": null,
   "metadata": {},
   "outputs": [],
   "source": [
    "#test = dd.merge(df_bath, df_grav,how='inner',right_index=True, left_index=True,suffixes=('_B', '_G')).compute()"
   ]
  },
  {
   "cell_type": "code",
   "execution_count": null,
   "metadata": {},
   "outputs": [],
   "source": [
    "test.head()"
   ]
  },
  {
   "cell_type": "code",
   "execution_count": null,
   "metadata": {},
   "outputs": [],
   "source": [
    "df_gravMerge = test[test['_merge'] == 'both']\n",
    "del df_gravMerge['_merge']\n",
    "df_gravMerge['longitud'] = df_gravMerge['longitud_G']\n",
    "df_gravMerge['latitud'] = df_gravMerge['latitud_G']\n",
    "del df_gravMerge['longitud_B']\n",
    "del df_gravMerge['latitud_B']\n",
    "del df_gravMerge['longitud_G']\n",
    "del df_gravMerge['latitud_G']\n",
    "df_gravMerge.head()"
   ]
  },
  {
   "cell_type": "code",
   "execution_count": null,
   "metadata": {},
   "outputs": [],
   "source": [
    "#df_gravMerge.size"
   ]
  },
  {
   "cell_type": "markdown",
   "metadata": {},
   "source": [
    "### Downsample the data"
   ]
  },
  {
   "cell_type": "code",
   "execution_count": null,
   "metadata": {},
   "outputs": [],
   "source": [
    "df_minuteGrav = pd.DataFrame()\n",
    "df_minuteGrav['proc_gravity'] = df_gravMerge.gravimetria_bruta.resample('min').mean()\n",
    "#df_minuteGrav['eotvos'] = df_gravMerge.eotvos.resample('min').mean()\n",
    "#df_minuteGrav['grav_corr'] = df_gravMerge.gravimetria_bruta.resample('min').mean() + df_gravMerge.eotvos.resample('min').mean()\n",
    "df_minuteGrav['lon'] = df_gravMerge.longitud.resample('min').mean()\n",
    "df_minuteGrav['lat'] = df_gravMerge.latitud.resample('min').mean()\n",
    "df_minuteGrav['sog'] = df_gravMerge.sog.resample('min').mean()\n",
    "df_minuteGrav['cog'] = df_gravMerge.cog.resample('min').mean()\n",
    "df_minuteGrav['depth'] = df_gravMerge.profundidad.resample('min').mean()\n",
    "df_minuteGrav.tail()"
   ]
  },
  {
   "cell_type": "code",
   "execution_count": null,
   "metadata": {},
   "outputs": [],
   "source": [
    "df_minuteGrav.size"
   ]
  },
  {
   "cell_type": "code",
   "execution_count": null,
   "metadata": {},
   "outputs": [],
   "source": [
    "df_minuteGrav2=df_minuteGrav.loc['2019-01-20 00:00:00':'2019-01-24 00:00:00']\n",
    "df_temp=df_minuteGrav.loc['2019-01-26 21:00:00':'2019-02-05 23:58:00']\n",
    "df_minuteGrav2=df_minuteGrav2.append(df_temp)"
   ]
  },
  {
   "cell_type": "code",
   "execution_count": null,
   "metadata": {},
   "outputs": [],
   "source": [
    "df_minuteGrav2.hvplot.points('lon', 'lat', \n",
    "                      height=500, \n",
    "                      color='proc_gravity', \n",
    "                      cmap='colorwheel', \n",
    "                      size=3, \n",
    "                      hover_cols=['depth'], title= 'proc_gravity',\n",
    "                      fontsize={'title': 16, 'labels': 14, 'xticks': 12, 'yticks': 12})"
   ]
  },
  {
   "cell_type": "code",
   "execution_count": null,
   "metadata": {},
   "outputs": [],
   "source": [
    "#df_minuteGrav2.hvplot.heatmap(x='lon', y='lat', C='proc_gravity', reduce_function=np.mean, colorbar=True)"
   ]
  },
  {
   "cell_type": "markdown",
   "metadata": {},
   "source": [
    "### Things to notice:\n",
    "1. The depth signiature is visable\n",
    "2. Examine crossing paths... there is a directioal dependence to our readings related to ship direction. \n",
    "3. Is the difference between these lines just the ETVOS correction or are their other corrections that need to be applied? \n",
    "4. Whould you please share the processing stream? "
   ]
  },
  {
   "cell_type": "code",
   "execution_count": null,
   "metadata": {},
   "outputs": [],
   "source": [
    "df_minuteGrav2.hvplot.points('index', 'proc_gravity', color='proc_gravity',\n",
    "                             cmap='colorwheel', size=.5,\n",
    "                             hover_cols=['cog'], title= 'proc_gravity')"
   ]
  },
  {
   "cell_type": "code",
   "execution_count": null,
   "metadata": {},
   "outputs": [],
   "source": [
    "df_minuteGrav2.head(1)"
   ]
  },
  {
   "cell_type": "code",
   "execution_count": null,
   "metadata": {},
   "outputs": [],
   "source": [
    "cond1 = df_minuteGrav2[\"lat\"] < -62.44    \n",
    "cond2 = df_minuteGrav2[\"lat\"] > -62.45\n",
    "cond3 = df_minuteGrav2[\"lon\"] > -58.42\n",
    "cond4 = df_minuteGrav2[\"lon\"] < -58.36\n",
    "\n",
    "df_minuteGrav3 = df_minuteGrav2[cond1 & cond2 & cond3 & cond4]"
   ]
  },
  {
   "cell_type": "code",
   "execution_count": null,
   "metadata": {},
   "outputs": [],
   "source": [
    "del df_minuteGrav3['eotvos']\n",
    "del df_minuteGrav3['grav_corr']\n",
    "df_minuteGrav3.head()"
   ]
  },
  {
   "cell_type": "code",
   "execution_count": null,
   "metadata": {},
   "outputs": [],
   "source": [
    "df_minuteGrav3.hvplot.scatter('lon', 'lat', \n",
    "                      height=500, \n",
    "                      color='proc_gravity', \n",
    "                      cmap='colorwheel', \n",
    "                      size=50, \n",
    "                      hover_cols=['depth'], title= 'proc_gravity subset').opts(bgcolor= grey)"
   ]
  },
  {
   "cell_type": "code",
   "execution_count": null,
   "metadata": {},
   "outputs": [],
   "source": [
    "df_minuteGrav3.to_csv('proc_gravity_subset.csv') "
   ]
  },
  {
   "cell_type": "markdown",
   "metadata": {},
   "source": [
    "## The gravitational constant in SI units :math:`m^3 kg^{-1} s^{-1}`\n",
    "## GRAVITATIONAL_CONST = 0.00000000006673"
   ]
  },
  {
   "cell_type": "code",
   "execution_count": null,
   "metadata": {},
   "outputs": [],
   "source": []
  },
  {
   "cell_type": "markdown",
   "metadata": {},
   "source": [
    "## Bouguer Correction\n",
    "#### The mass of the material between the gravity station and the datum also causes a variation of gravity with elevation (Figure 1). This mass effect causes gravity at higher stations to be greater than at stations with lower elevations and thus partly offsets the Free Air effect. To calculate the effect of this mass, a model of the topography must be constructed and its density must be estimated.\n",
    "\n",
    "#### The traditional approach is crude but has been proven to be effective. In this approach, each station is assumed to sit on a slab of material that extends to infinity laterally and to the elevation datum vertically (Figure 1). The formula for the gravitational attraction of this infinite slab is derived by employing a volume integral to calculate its mass. The resulting correction is named for the French geodesist Pierre Bouguer:\n",
    "\n",
    "## Bouguer Correction = BC = 2pgrh, where g is the International gravitational constant, r is the density, and h = (elevation - datum elevation).\n",
    "\n",
    "#### As discussed below, the need to estimate density for the calculation of the Bouguer correction is a significant source of uncertainty in gravity studies. With Gobs being observed gravity corrected for drift and tides, the Bouguer anomaly (BA) is then defined as:\n",
    "\n",
    "## BA = Gobs - Gt + FAC - BC\n",
    "\n",
    "#### If terrain corrections (see below) are not applied, the term simple Bouguer anomaly is used. If they have, the term complete Bouguer anomaly is used. A second order correction to account for the curvature of the Earth is often added to this calculation."
   ]
  },
  {
   "cell_type": "code",
   "execution_count": null,
   "metadata": {},
   "outputs": [],
   "source": [
    "ellipsoid = get_ellipsoid()\n",
    " #Convert latitude to radians\n",
    "    latitude_rad = np.radians(latitude)\n",
    "     prime_vertical_radius = ellipsoid.semimajor_axis / np.sqrt(1 - ellipsoid.first_eccentricity ** 2 * np.sin(latitude_rad) ** 2)\n",
    "        # Instead of computing X and Y, we only comupute the projection on the XY plane:\n",
    "        # xy_projection = sqrt( X**2 + Y**2 )\n",
    " xy_projection = (height + prime_vertical_radius) * np.cos(latitude_rad)\n",
    " z_cartesian = (height + (1 - ellipsoid.first_eccentricity ** 2) * prime_vertical_radius) * np.sin(latitude_rad)\n",
    " radius = np.sqrt(xy_projection ** 2 + z_cartesian ** 2)\n",
    " geocentric_latitude = 180 / np.pi * np.arcsin(z_cartesian / radius)\n",
    "\n",
    "    return geocentric_latitude, radius\n"
   ]
  },
  {
   "cell_type": "code",
   "execution_count": null,
   "metadata": {},
   "outputs": [],
   "source": []
  }
 ],
 "metadata": {
  "kernelspec": {
   "display_name": "Python 3",
   "language": "python",
   "name": "python3"
  },
  "language_info": {
   "codemirror_mode": {
    "name": "ipython",
    "version": 3
   },
   "file_extension": ".py",
   "mimetype": "text/x-python",
   "name": "python",
   "nbconvert_exporter": "python",
   "pygments_lexer": "ipython3",
   "version": "3.7.6"
  }
 },
 "nbformat": 4,
 "nbformat_minor": 4
}
