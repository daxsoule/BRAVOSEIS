{
 "cells": [
  {
   "cell_type": "markdown",
   "metadata": {},
   "source": [
    "## First Look at Mag Data"
   ]
  },
  {
   "cell_type": "markdown",
   "metadata": {},
   "source": [
    "#### Import Data Files"
   ]
  },
  {
   "cell_type": "code",
   "execution_count": null,
   "metadata": {},
   "outputs": [],
   "source": [
    "%reset -f"
   ]
  },
  {
   "cell_type": "code",
   "execution_count": null,
   "metadata": {},
   "outputs": [],
   "source": [
    "import pandas as pd\n",
    "import hvplot.pandas\n",
    "import numpy as np\n",
    "import matplotlib.dates as dates\n",
    "import warnings\n",
    "warnings.filterwarnings('ignore')\n",
    "import holoviews as hv\n",
    "from holoviews import dim, opts\n",
    "import hvplot.dask\n",
    "hv.extension('bokeh')\n",
    "import glob, os\n",
    "import dask.dataframe as dd\n",
    "import datetime as dt"
   ]
  },
  {
   "cell_type": "code",
   "execution_count": null,
   "metadata": {},
   "outputs": [],
   "source": [
    "from time import sleep\n",
    "\n",
    "def inc(x):\n",
    "    sleep(1)\n",
    "    return x + 1\n",
    "\n",
    "def add(x, y):\n",
    "    sleep(1)\n",
    "    return x + y"
   ]
  },
  {
   "cell_type": "markdown",
   "metadata": {},
   "source": [
    "### Start a Dask Cluster"
   ]
  },
  {
   "cell_type": "code",
   "execution_count": null,
   "metadata": {},
   "outputs": [],
   "source": [
    "from dask.distributed import Client, LocalCluster\n",
    "cluster = LocalCluster()\n",
    "client = Client(cluster)\n",
    "client"
   ]
  },
  {
   "cell_type": "code",
   "execution_count": null,
   "metadata": {},
   "outputs": [],
   "source": [
    "def parse_date(date_string):\n",
    "    year   = date_string[3:5]\n",
    "    month  = date_string[0:2]\n",
    "    day    = date_string[7:9]\n",
    "    hour   = date_string[10:12]\n",
    "    minute = date_string[13:15]\n",
    "    second = date_string[16:18]\n",
    "#     if day == '032':\n",
    "#         print(date_string)\n",
    "#         month = '02'\n",
    "#         day = '01'\n",
    "    \n",
    "    common_date_string = year   + '-' + \\\n",
    "                         month  + '-' + \\\n",
    "                         day    + ' ' + \\\n",
    "                         hour   + ':' + \\\n",
    "                         minute + ':' + \\\n",
    "                         second\n",
    "    \n",
    "    dt = datetime.datetime.strptime(common_date_string, \n",
    "                                    \"%y-%m-%d %H:%M:%S\")\n",
    "    \n",
    "    return dt"
   ]
  },
  {
   "cell_type": "code",
   "execution_count": null,
   "metadata": {},
   "outputs": [],
   "source": [
    "#JDAY parser\n",
    "def parse_date(date_string):\n",
    "    year   = date_string[0:2]\n",
    "    jday  = date_string[3:6]\n",
    "    hour   = date_string[10:12]\n",
    "    minute = date_string[13:15]\n",
    "    second = date_string[16:18]\n",
    "#     if day == '032':\n",
    "#         print(date_string)\n",
    "#         month = '02'\n",
    "#         day = '01'\n",
    "    \n",
    "    common_date_string = year   + '-' + \\\n",
    "                         month  + '-' + \\\n",
    "                         day    + ' ' + \\\n",
    "                         hour   + ':' + \\\n",
    "                         minute + ':' + \\\n",
    "                         second\n",
    "    \n",
    "    dt = datetime.datetime.strptime(common_date_string, \n",
    "                                    \"%y-%m-%d %H:%M:%S\")\n",
    "    \n",
    "    return dt"
   ]
  },
  {
   "cell_type": "code",
   "execution_count": null,
   "metadata": {},
   "outputs": [],
   "source": [
    "#!ls /Users/dsoule/data/bravoseis_data/MAGNETOMETRO/dotmagFiles/february/"
   ]
  },
  {
   "cell_type": "code",
   "execution_count": null,
   "metadata": {},
   "outputs": [],
   "source": [
    "#!ls /Users/dsoule/data/bravoseis_data/MAGNETOMETRO/dotmagFiles/january/"
   ]
  },
  {
   "cell_type": "code",
   "execution_count": null,
   "metadata": {},
   "outputs": [],
   "source": [
    "cat /Users/dsoule/data/bravoseis_data/MAGNETOMETRO/dotmagFiles/february/*.mag > /Users/dsoule/data/bravoseis_data/MAGNETOMETRO/dotmagFiles/bigfile.txt"
   ]
  },
  {
   "cell_type": "code",
   "execution_count": null,
   "metadata": {},
   "outputs": [],
   "source": [
    "cat /Users/dsoule/data/bravoseis_data/MAGNETOMETRO/dotmagFiles/january/*.mag >> /Users/dsoule/data/bravoseis_data/MAGNETOMETRO/dotmagFiles/bigfile.txt"
   ]
  },
  {
   "cell_type": "code",
   "execution_count": null,
   "metadata": {},
   "outputs": [],
   "source": [
    "!head /Users/dsoule/data/bravoseis_data/MAGNETOMETRO/dotmagFiles/bigfile.txt"
   ]
  },
  {
   "cell_type": "code",
   "execution_count": null,
   "metadata": {},
   "outputs": [],
   "source": [
    "#!head /Users/dsoule/data/bravoseis_data/MAGNETOMETRO/dotmagFiles/february/temp.txt"
   ]
  },
  {
   "cell_type": "code",
   "execution_count": null,
   "metadata": {},
   "outputs": [],
   "source": [
    "!rm /Users/dsoule/data/bravoseis_data/MAGNETOMETRO/dotmagFiles/bigfile.txt\n",
    "!rm /Users/dsoule/data/bravoseis_data/MAGNETOMETRO/dotmagFiles/magnetometro.csv\n",
    "!cat /Users/dsoule/data/bravoseis_data/MAGNETOMETRO/dotmagFiles/february/*.mag \\\n",
    "> /Users/dsoule/data/bravoseis_data/MAGNETOMETRO/dotmagFiles/bigfile.txt\n",
    "!cat /Users/dsoule/data/bravoseis_data/MAGNETOMETRO/dotmagFiles/january/*.mag \\\n",
    ">> /Users/dsoule/data/bravoseis_data/MAGNETOMETRO/dotmagFiles/bigfile.txt\n",
    "!sed -ibak -e 's/*19./2019,/g' -e 's/\\//,/' -e 's/.5 F:/,/g' -e 's/.7 F:/,/g' -e 's/ S:/,/g' \\\n",
    "-e 's/ D:/,/g' -e 's/m A:/,/g' -e 's/m L0 /,/' -e 's/ Q:/,/' -e 's/     X:/,/' \\\n",
    "-e 's/ Y:/,/' -e 's/ Z:/,/' -e 's/ x:/,/' -e 's/ y:/,/' -e 's/ <INTERP>//' -e 's/ <REAL>//' \\\n",
    "-e 's/ <LAYBACK INTERPOLATION>//' -e '/2019,0/!d' /Users/dsoule/data/bravoseis_data/MAGNETOMETRO/dotmagFiles/bigfile.txt\n",
    "#!sed '/019,0/!d' /Users/dsoule/data/bravoseis_data/MAGNETOMETRO/dotmagFiles/bigfile.txt\n",
    "!echo 'year,JD,time,f_mag,S:,depth(m), dummy,A (m):,LO,Xgrid,Ygrid,zone,longitude,latitude' \\\n",
    "| cat - /Users/dsoule/data/bravoseis_data/MAGNETOMETRO/dotmagFiles/bigfile.txt \\\n",
    "> /Users/dsoule/data/bravoseis_data/MAGNETOMETRO/dotmagFiles/magnetometro.csv\n",
    "!head /Users/dsoule/data/bravoseis_data/MAGNETOMETRO/dotmagFiles/magnetometro.csv"
   ]
  },
  {
   "cell_type": "code",
   "execution_count": null,
   "metadata": {},
   "outputs": [],
   "source": [
    "from dask import delayed\n",
    "import dask.array as dsa"
   ]
  },
  {
   "cell_type": "code",
   "execution_count": null,
   "metadata": {},
   "outputs": [],
   "source": [
    "%%time\n",
    "df_magnet=pd.read_csv('/Users/dsoule/data/bravoseis_data/MAGNETOMETRO/dotmagFiles/magnetometro.csv')\n",
    "df_magnet['date'] = pd.to_datetime(df_magnet.year, format='%Y') + pd.to_timedelta(df_magnet.JD - 1, unit='d')\n",
    "df_magnet['time'] = pd.to_datetime(df_magnet['time'],format= '%H:%M:%S').dt.time\n",
    "df_magnet['Timestamp'] = pd.to_datetime(df_magnet[\"date\"].astype(str) + \" \" + df_magnet[\"time\"].astype(str))\n",
    "df_magnet=df_magnet.set_index(\"Timestamp\")\n",
    "df_magnet.head(5)"
   ]
  },
  {
   "cell_type": "code",
   "execution_count": null,
   "metadata": {},
   "outputs": [],
   "source": [
    "df_magnet['Timestamp'] = df_magnet.apply(lambda r : pd.datetime.combine(r['date_column_name'],r['time_column_name']).time(),1)\n"
   ]
  },
  {
   "cell_type": "code",
   "execution_count": null,
   "metadata": {},
   "outputs": [],
   "source": []
  }
 ],
 "metadata": {
  "kernelspec": {
   "display_name": "Python 3",
   "language": "python",
   "name": "python3"
  },
  "language_info": {
   "codemirror_mode": {
    "name": "ipython",
    "version": 3
   },
   "file_extension": ".py",
   "mimetype": "text/x-python",
   "name": "python",
   "nbconvert_exporter": "python",
   "pygments_lexer": "ipython3",
   "version": "3.7.6"
  }
 },
 "nbformat": 4,
 "nbformat_minor": 4
}
