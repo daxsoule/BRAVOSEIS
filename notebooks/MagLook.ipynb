{
 "cells": [
  {
   "cell_type": "markdown",
   "metadata": {},
   "source": [
    "## Notes\n",
    "\n",
    "1. Marjanovic_2011 - Pseudofaults left by former propagating ridge segments could be identified from breaks in magnetic isochrons (modfied from Wilson [1993]).\n",
    "\n",
    "2. Karsten and Delaney [1989] discuss a protocol for numbering pseudofaults.\n",
    "\n"
   ]
  }
 ],
 "metadata": {
  "kernelspec": {
   "display_name": "Python 3",
   "language": "python",
   "name": "python3"
  },
  "language_info": {
   "codemirror_mode": {
    "name": "ipython",
    "version": 3
   },
   "file_extension": ".py",
   "mimetype": "text/x-python",
   "name": "python",
   "nbconvert_exporter": "python",
   "pygments_lexer": "ipython3",
   "version": "3.6.7"
  }
 },
 "nbformat": 4,
 "nbformat_minor": 2
}
