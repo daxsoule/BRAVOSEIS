{
 "cells": [
  {
   "cell_type": "code",
   "execution_count": null,
   "metadata": {},
   "outputs": [],
   "source": [
    "!pip install segpy"
   ]
  },
  {
   "cell_type": "code",
   "execution_count": null,
   "metadata": {},
   "outputs": [],
   "source": [
    "from segpy.reader import create_reader\n",
    "from segpy.writer import write_segy"
   ]
  },
  {
   "cell_type": "code",
   "execution_count": null,
   "metadata": {},
   "outputs": [],
   "source": [
    "path = '/home/jovyan/data/bravoseis_data/seismic/ORCA11_Time.sgy'"
   ]
  },
  {
   "cell_type": "code",
   "execution_count": null,
   "metadata": {},
   "outputs": [],
   "source": [
    "def report_segy(path):\n",
    "    with open(in_filename, 'rb') as in_file:\n",
    " \n",
    "        segy_reader = create_reader(in_file)\n",
    "        print()\n",
    "        print(\"Filename:             \", segy_reader.filename)\n",
    "        print(\"SEG Y revision:       \", segy_reader.revision)\n",
    "        print(\"Number of traces:     \", segy_reader.num_traces())\n",
    "        print(\"Data format:          \",\n",
    "              segy_reader.data_sample_format_description)\n",
    "        print(\"Dimensionality:       \", segy_reader.dimensionality)\n",
    " \n",
    "        try:\n",
    "            print(\"Number of CDPs:       \", segy_reader.num_cdps())\n",
    "        except AttributeError:\n",
    "            pass\n",
    " \n",
    "        try:\n",
    "            print(\"Number of inlines:    \", segy_reader.num_inlines())\n",
    "            print(\"Number of crosslines: \", segy_reader.num_xlines())\n",
    "        except AttributeError:\n",
    "            pass\n",
    " \n",
    "        print(\"=== BEGIN TEXTUAL REEL HEADER ===\")\n",
    "        for line in segy_reader.textual_reel_header:\n",
    "            print(line[3:])\n",
    "        print(\"=== END TEXTUAL REEL HEADER ===\")\n",
    "        print()\n",
    "        print(\"=== BEGIN EXTENDED TEXTUAL HEADER ===\")\n",
    "        print(segy_reader.extended_textual_header)\n",
    "        print(\"=== END EXTENDED TEXTUAL_HEADER ===\")"
   ]
  },
  {
   "cell_type": "code",
   "execution_count": null,
   "metadata": {},
   "outputs": [],
   "source": [
    "def read_traces(in_filename):\n",
    "    with open(in_filename, 'rb') as in_file:\n",
    " \n",
    "        t0 = datetime.datetime.now()\n",
    " \n",
    "        segy_reader = create_reader(in_file)\n",
    " \n",
    "        t1 = datetime.datetime.now()\n",
    " \n",
    "        for trace_index in segy_reader.trace_indexes():\n",
    "            trace = segy_reader.trace_samples(trace_index)\n",
    " \n",
    "        t2 = datetime.datetime.now()\n",
    " \n",
    "    time_to_read_header = (t1 - t0).total_seconds()\n",
    "    time_to_read_traces = (t2 - t1).total_seconds()\n",
    "    time_to_read_both = (t2 - t0).total_seconds()\n",
    " \n",
    "    print(\"Time to read headers : {} seconds\", time_to_read_header)\n",
    "    print(\"Time to read traces  : {} seconds\", time_to_read_traces)\n",
    "    print(\"Total time           : {} seconds\", time_to_read_both)"
   ]
  },
  {
   "cell_type": "code",
   "execution_count": null,
   "metadata": {},
   "outputs": [],
   "source": [
    "import matplotlib.pyplot as plt\n",
    "import numpy as np\n",
    "% matplotlib inline"
   ]
  },
  {
   "cell_type": "code",
   "execution_count": null,
   "metadata": {},
   "outputs": [],
   "source": [
    "length, depth = 40, 100\n",
    "model = 1 + np.tri(depth, length, -depth//3, dtype=int)\n",
    "model[:depth//3,:] = 0"
   ]
  },
  {
   "cell_type": "code",
   "execution_count": null,
   "metadata": {},
   "outputs": [],
   "source": [
    "plt.imshow(model, cmap='viridis', aspect=0.2)\n",
    "plt.show()"
   ]
  },
  {
   "cell_type": "code",
   "execution_count": null,
   "metadata": {},
   "outputs": [],
   "source": [
    "rocks = np.array([[2700, 2750],  # Vp, rho\n",
    "                  [2400, 2450],\n",
    "                  [2800, 3000]])"
   ]
  },
  {
   "cell_type": "code",
   "execution_count": null,
   "metadata": {},
   "outputs": [],
   "source": [
    "earth = rocks[model]"
   ]
  },
  {
   "cell_type": "code",
   "execution_count": null,
   "metadata": {},
   "outputs": [],
   "source": [
    "imp = np.apply_along_axis(np.product, -1, earth)"
   ]
  },
  {
   "cell_type": "code",
   "execution_count": null,
   "metadata": {},
   "outputs": [],
   "source": [
    "rc =  (imp[1:,:] - imp[:-1,:]) / (imp[1:,:] + imp[:-1,:])\n",
    "\n",
    "plt.imshow(rc, cmap='Greys', aspect=0.2)\n",
    "plt.show()"
   ]
  },
  {
   "cell_type": "code",
   "execution_count": null,
   "metadata": {},
   "outputs": [],
   "source": [
    "import bruges\n",
    "\n",
    "w = bruges.filters.ricker(duration=0.100, dt=0.001, f=40)"
   ]
  },
  {
   "cell_type": "code",
   "execution_count": null,
   "metadata": {},
   "outputs": [],
   "source": [
    "import numpy as np\n",
    "import matplotlib.pyplot as plt\n",
    "%matplotlib inline"
   ]
  },
  {
   "cell_type": "code",
   "execution_count": null,
   "metadata": {},
   "outputs": [],
   "source": [
    "from obspy.io.segy.segy import _read_segy\n",
    "\n",
    "stream = _read_segy('../data/3X_75_PR.SGY', headonly=True)"
   ]
  },
  {
   "cell_type": "code",
   "execution_count": null,
   "metadata": {},
   "outputs": [],
   "source": []
  }
 ],
 "metadata": {
  "kernelspec": {
   "display_name": "Python 3",
   "language": "python",
   "name": "python3"
  },
  "language_info": {
   "codemirror_mode": {
    "name": "ipython",
    "version": 3
   },
   "file_extension": ".py",
   "mimetype": "text/x-python",
   "name": "python",
   "nbconvert_exporter": "python",
   "pygments_lexer": "ipython3",
   "version": "3.7.3"
  }
 },
 "nbformat": 4,
 "nbformat_minor": 4
}
