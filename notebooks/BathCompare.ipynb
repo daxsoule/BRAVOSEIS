{
 "cells": [
  {
   "cell_type": "markdown",
   "metadata": {},
   "source": [
    "#### Import Data Files"
   ]
  },
  {
   "cell_type": "code",
   "execution_count": 2,
   "metadata": {},
   "outputs": [],
   "source": [
    "%reset -f"
   ]
  },
  {
   "cell_type": "code",
   "execution_count": 3,
   "metadata": {},
   "outputs": [],
   "source": [
    "import pandas as pd\n",
    "import numpy as np\n",
    "import matplotlib.dates as dates\n",
    "import warnings\n",
    "warnings.filterwarnings('ignore')"
   ]
  },
  {
   "cell_type": "code",
   "execution_count": 4,
   "metadata": {},
   "outputs": [
    {
     "name": "stdout",
     "output_type": "stream",
     "text": [
      "-63.018497 -059.943047 -928.497\n",
      "-63.018356 -059.943330 -928.123\n",
      "-63.018362 -059.943034 -927.180\n",
      "-63.018216 -059.943612 -927.946\n",
      "-63.018222 -059.943316 -926.886\n",
      "-63.018228 -059.943020 -926.361\n",
      "-63.018081 -059.943599 -926.397\n",
      "-63.018087 -059.943303 -925.862\n",
      "-63.018094 -059.943007 -925.699\n",
      "-63.017941 -059.943881 -926.406\n"
     ]
    }
   ],
   "source": [
    "!head /home/jovyan/data/bravoseis_data/Bransfield15m.txt"
   ]
  },
  {
   "cell_type": "code",
   "execution_count": 5,
   "metadata": {},
   "outputs": [],
   "source": [
    "path = '/home/jovyan/data/bravoseis_data/Bransfield15m.txt'"
   ]
  },
  {
   "cell_type": "code",
   "execution_count": 13,
   "metadata": {},
   "outputs": [
    {
     "data": {
      "text/html": [
       "<div>\n",
       "<style scoped>\n",
       "    .dataframe tbody tr th:only-of-type {\n",
       "        vertical-align: middle;\n",
       "    }\n",
       "\n",
       "    .dataframe tbody tr th {\n",
       "        vertical-align: top;\n",
       "    }\n",
       "\n",
       "    .dataframe thead th {\n",
       "        text-align: right;\n",
       "    }\n",
       "</style>\n",
       "<table border=\"1\" class=\"dataframe\">\n",
       "  <thead>\n",
       "    <tr style=\"text-align: right;\">\n",
       "      <th></th>\n",
       "      <th>lat</th>\n",
       "      <th>lon</th>\n",
       "      <th>z15m</th>\n",
       "    </tr>\n",
       "  </thead>\n",
       "  <tbody>\n",
       "    <tr>\n",
       "      <th>0</th>\n",
       "      <td>-63.018497</td>\n",
       "      <td>-59.943047</td>\n",
       "      <td>-928.497</td>\n",
       "    </tr>\n",
       "    <tr>\n",
       "      <th>1</th>\n",
       "      <td>-63.018356</td>\n",
       "      <td>-59.943330</td>\n",
       "      <td>-928.123</td>\n",
       "    </tr>\n",
       "    <tr>\n",
       "      <th>2</th>\n",
       "      <td>-63.018362</td>\n",
       "      <td>-59.943034</td>\n",
       "      <td>-927.180</td>\n",
       "    </tr>\n",
       "    <tr>\n",
       "      <th>3</th>\n",
       "      <td>-63.018216</td>\n",
       "      <td>-59.943612</td>\n",
       "      <td>-927.946</td>\n",
       "    </tr>\n",
       "    <tr>\n",
       "      <th>4</th>\n",
       "      <td>-63.018222</td>\n",
       "      <td>-59.943316</td>\n",
       "      <td>-926.886</td>\n",
       "    </tr>\n",
       "  </tbody>\n",
       "</table>\n",
       "</div>"
      ],
      "text/plain": [
       "         lat        lon     z15m\n",
       "0 -63.018497 -59.943047 -928.497\n",
       "1 -63.018356 -59.943330 -928.123\n",
       "2 -63.018362 -59.943034 -927.180\n",
       "3 -63.018216 -59.943612 -927.946\n",
       "4 -63.018222 -59.943316 -926.886"
      ]
     },
     "execution_count": 13,
     "metadata": {},
     "output_type": "execute_result"
    }
   ],
   "source": [
    "df_z15m = pd.read_csv(path,header = None,sep = ' ', names= ['lat','lon','z15m'])\n",
    "df_z15m.head()"
   ]
  },
  {
   "cell_type": "code",
   "execution_count": 14,
   "metadata": {},
   "outputs": [],
   "source": [
    "from pyproj import Proj"
   ]
  },
  {
   "cell_type": "code",
   "execution_count": 15,
   "metadata": {},
   "outputs": [],
   "source": [
    "myProj = Proj(\"+proj=utm +zone=21S, +south +ellps=WGS84 +datum=WGS84 +units=m +no_defs\")"
   ]
  },
  {
   "cell_type": "code",
   "execution_count": 16,
   "metadata": {},
   "outputs": [],
   "source": [
    "UTMx, UTMy = myProj(df_z15m['lon'].values, df_z15m['lat'].values);"
   ]
  },
  {
   "cell_type": "code",
   "execution_count": 17,
   "metadata": {},
   "outputs": [
    {
     "data": {
      "text/html": [
       "<div>\n",
       "<style scoped>\n",
       "    .dataframe tbody tr th:only-of-type {\n",
       "        vertical-align: middle;\n",
       "    }\n",
       "\n",
       "    .dataframe tbody tr th {\n",
       "        vertical-align: top;\n",
       "    }\n",
       "\n",
       "    .dataframe thead th {\n",
       "        text-align: right;\n",
       "    }\n",
       "</style>\n",
       "<table border=\"1\" class=\"dataframe\">\n",
       "  <thead>\n",
       "    <tr style=\"text-align: right;\">\n",
       "      <th></th>\n",
       "      <th>lat</th>\n",
       "      <th>lon</th>\n",
       "      <th>z15m</th>\n",
       "      <th>UTMx</th>\n",
       "      <th>UTMy</th>\n",
       "    </tr>\n",
       "  </thead>\n",
       "  <tbody>\n",
       "    <tr>\n",
       "      <th>0</th>\n",
       "      <td>-63.018497</td>\n",
       "      <td>-59.943047</td>\n",
       "      <td>-928.497</td>\n",
       "      <td>351060.020007</td>\n",
       "      <td>-6.991060e+06</td>\n",
       "    </tr>\n",
       "    <tr>\n",
       "      <th>1</th>\n",
       "      <td>-63.018356</td>\n",
       "      <td>-59.943330</td>\n",
       "      <td>-928.123</td>\n",
       "      <td>351044.986268</td>\n",
       "      <td>-6.991045e+06</td>\n",
       "    </tr>\n",
       "    <tr>\n",
       "      <th>2</th>\n",
       "      <td>-63.018362</td>\n",
       "      <td>-59.943034</td>\n",
       "      <td>-927.180</td>\n",
       "      <td>351059.988979</td>\n",
       "      <td>-6.991045e+06</td>\n",
       "    </tr>\n",
       "    <tr>\n",
       "      <th>3</th>\n",
       "      <td>-63.018216</td>\n",
       "      <td>-59.943612</td>\n",
       "      <td>-927.946</td>\n",
       "      <td>351030.008076</td>\n",
       "      <td>-6.991030e+06</td>\n",
       "    </tr>\n",
       "    <tr>\n",
       "      <th>4</th>\n",
       "      <td>-63.018222</td>\n",
       "      <td>-59.943316</td>\n",
       "      <td>-926.886</td>\n",
       "      <td>351045.010860</td>\n",
       "      <td>-6.991030e+06</td>\n",
       "    </tr>\n",
       "  </tbody>\n",
       "</table>\n",
       "</div>"
      ],
      "text/plain": [
       "         lat        lon     z15m           UTMx          UTMy\n",
       "0 -63.018497 -59.943047 -928.497  351060.020007 -6.991060e+06\n",
       "1 -63.018356 -59.943330 -928.123  351044.986268 -6.991045e+06\n",
       "2 -63.018362 -59.943034 -927.180  351059.988979 -6.991045e+06\n",
       "3 -63.018216 -59.943612 -927.946  351030.008076 -6.991030e+06\n",
       "4 -63.018222 -59.943316 -926.886  351045.010860 -6.991030e+06"
      ]
     },
     "execution_count": 17,
     "metadata": {},
     "output_type": "execute_result"
    }
   ],
   "source": [
    "df_z15m.insert(3, \"UTMx\", UTMx, True)\n",
    "df_z15m.insert(4, \"UTMy\", UTMy, True)\n",
    "\n",
    "df_z15m.head()"
   ]
  },
  {
   "cell_type": "code",
   "execution_count": null,
   "metadata": {},
   "outputs": [],
   "source": []
  }
 ],
 "metadata": {
  "kernelspec": {
   "display_name": "Python 3",
   "language": "python",
   "name": "python3"
  },
  "language_info": {
   "codemirror_mode": {
    "name": "ipython",
    "version": 3
   },
   "file_extension": ".py",
   "mimetype": "text/x-python",
   "name": "python",
   "nbconvert_exporter": "python",
   "pygments_lexer": "ipython3",
   "version": "3.8.6"
  }
 },
 "nbformat": 4,
 "nbformat_minor": 4
}
