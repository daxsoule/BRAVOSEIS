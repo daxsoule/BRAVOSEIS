{
 "cells": [
  {
   "cell_type": "markdown",
   "metadata": {},
   "source": [
    "# Introduction\n",
    "In the petroleum industry, seismic data is the most common geophysical method employed to help us link surface and well data to subsurface structures. For geoscientists, it's important to understand the spatial and/or temporal changes in gravitational or magnetic potential fields can help us identify spatial and temporal changes in the earth. \n",
    "\n",
    "Gravity and magnetic data are therefore potential field measurments: \n",
    "* A field is a physical quantity that has a value for each point in space and time.\n",
    "* Potential is the amount of energy an object has due to its position within a field. \n",
    "\n",
    "There are several situations in which gravity and magnetic data may be used to enhance our understanding of the subsurface:\n",
    "1. For global scales: Gravity and magnetic data can be aquired by satallite to provide global scale data sets. These can help map ocean bathymetry, seafloor spreading, and longer wavelength variations in the potential fields. \n",
    "2. For basin scales: Gravity and magnetic data can be aquired from the air or by boat, making it viable on regional scales where seismic aquisition might be cost-prohibitive. Air aquistion can also be very useful in areas where land access is an issue. For example, due to terrain, vegitation, or security issues. \n",
    "3. Areas with poor seismic imaging: Seismic imaging in areas with high density variations, such as salt basins, can be problematic. These types of areas can be better understood and resolved when used in conjunction with gravity data. Seismic aquisition also has limitations on the imaging of very deep areas due to source strength and seismic wave attenuation with depth. Gravity and magetic data can be used to understand variations in hte basement depth, lithology and deep crustal structures that the seismic cannot image. "
   ]
  },
  {
   "cell_type": "markdown",
   "metadata": {},
   "source": [
    "# The Basic Concepts of Gravity \n",
    "Gravity is teh force of attraction between two objects. We see the effects of gravity everywhere:\n",
    "* Causing matter to clump together into stars and planets \n",
    "* Keeping moons and planets in orbit\n",
    "* Preventing our atmosphere from disapearing \n",
    "* Producing oceanic tides\n",
    "* making objects fall downward\n",
    "The more mass an object has, the stronger its gravitational pull. The closer the object is, the stronger its gravitational pull. \n",
    "\n",
    "Although science does not fully understand the funamental caues of interations between masses, we have been able to describe the effects of gravity mathematically since Isaac Newton published... \n",
    "\n",
    "In modern language (Cohen, 1999), Newton's Law of Universal Gravitation states that:\n",
    "\n",
    "Every pont mass attracts every single point mass by a force ponting along the line intersecting both points. The force is proportional to the product of the two masses and inversely proportional to the square of the distance between them. \n",
    "\n",
    "The gravitational acceleration on teh surface of Earth is typically denoted as \"g\" and the mass of Earthas \"M\"\n",
    "\n",
    "g=G(M/r^2)\n",
    "\n",
    "where:\n",
    "\n",
    "G= 6.674E-11 N(m^2/kg^2)\n",
    "r = 6,378 km\n",
    "g = 9.8 m/s^2"
   ]
  },
  {
   "cell_type": "code",
   "execution_count": null,
   "metadata": {},
   "outputs": [],
   "source": [
    "# Calculate the mass of the Earth\n",
    "G = 6.674e-11 # in N(m^2/kg^2)\n",
    "r = 6378000 # in m\n",
    "g = 9.8 # in m/s^2\n",
    "\n",
    "# (g/G)r^2 = M\n",
    "\n",
    "M = (g * (r**2))/G\n",
    "print(M)"
   ]
  },
  {
   "cell_type": "code",
   "execution_count": null,
   "metadata": {},
   "outputs": [],
   "source": []
  },
  {
   "cell_type": "code",
   "execution_count": null,
   "metadata": {},
   "outputs": [],
   "source": []
  }
 ],
 "metadata": {
  "kernelspec": {
   "display_name": "Python 3",
   "language": "python",
   "name": "python3"
  },
  "language_info": {
   "codemirror_mode": {
    "name": "ipython",
    "version": 3
   },
   "file_extension": ".py",
   "mimetype": "text/x-python",
   "name": "python",
   "nbconvert_exporter": "python",
   "pygments_lexer": "ipython3",
   "version": "3.6.7"
  }
 },
 "nbformat": 4,
 "nbformat_minor": 2
}
